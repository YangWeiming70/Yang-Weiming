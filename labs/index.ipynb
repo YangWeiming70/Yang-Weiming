{
  "cells": [
    {
      "cell_type": "markdown",
      "metadata": {},
      "source": [
        "# Labs\n",
        "\n",
        "### [lab1-1 chipotle](lab1-1%20chipotle%20.html)\n",
        "\n",
        "### [lab1-2 Occupation](lab1-2%20Occupation.html)\n",
        "\n",
        "### [lab1-3 World Food Facts](lab1-3%20World%20Food%20Facts%20.html)\n",
        "\n",
        "### [lab1-4 chipotle](lab1-4%20chipotle%20.html)\n",
        "\n",
        "### [lab1-5 Euro12](lab1-5%20Euro12.html)\n",
        "\n",
        "### [lab1-6 Chipotle](lab1-6%20Chipotle%20.html)\n",
        "\n",
        "### [lab1-7 Scores](lab1-7%20Scores.html)\n",
        "\n",
        "### [lab2](lab2.html)"
      ],
      "id": "be891882-905b-4139-8404-c1ed5f85db82"
    }
  ],
  "nbformat": 4,
  "nbformat_minor": 5,
  "metadata": {
    "kernelspec": {
      "display_name": "Python 3",
      "language": "python",
      "name": "python3"
    }
  }
}