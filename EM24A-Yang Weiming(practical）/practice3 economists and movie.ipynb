{
 "cells": [
  {
   "cell_type": "markdown",
   "metadata": {},
   "source": [
    "# 1.The site's 'Extracting data from PDfs' ，'World Bank API', 'the Bureau of Statistics', and others have all made"
   ]
  },
  {
   "cell_type": "code",
   "execution_count": 91,
   "metadata": {},
   "outputs": [
    {
     "data": {
      "text/html": [
       "<div>\n",
       "<style scoped>\n",
       "    .dataframe tbody tr th:only-of-type {\n",
       "        vertical-align: middle;\n",
       "    }\n",
       "\n",
       "    .dataframe tbody tr th {\n",
       "        vertical-align: top;\n",
       "    }\n",
       "\n",
       "    .dataframe thead th {\n",
       "        text-align: right;\n",
       "    }\n",
       "</style>\n",
       "<table border=\"1\" class=\"dataframe\">\n",
       "  <thead>\n",
       "    <tr style=\"text-align: right;\">\n",
       "      <th></th>\n",
       "      <th>rownames</th>\n",
       "      <th>name</th>\n",
       "      <th>year</th>\n",
       "      <th>month</th>\n",
       "      <th>day</th>\n",
       "      <th>hour</th>\n",
       "      <th>lat</th>\n",
       "      <th>long</th>\n",
       "      <th>status</th>\n",
       "      <th>category</th>\n",
       "      <th>wind</th>\n",
       "      <th>pressure</th>\n",
       "      <th>tropicalstorm_force_diameter</th>\n",
       "      <th>hurricane_force_diameter</th>\n",
       "    </tr>\n",
       "  </thead>\n",
       "  <tbody>\n",
       "    <tr>\n",
       "      <th>0</th>\n",
       "      <td>1</td>\n",
       "      <td>Amy</td>\n",
       "      <td>1975</td>\n",
       "      <td>6</td>\n",
       "      <td>27</td>\n",
       "      <td>0</td>\n",
       "      <td>27.5</td>\n",
       "      <td>-79.0</td>\n",
       "      <td>tropical depression</td>\n",
       "      <td>NaN</td>\n",
       "      <td>25</td>\n",
       "      <td>1013</td>\n",
       "      <td>NaN</td>\n",
       "      <td>NaN</td>\n",
       "    </tr>\n",
       "    <tr>\n",
       "      <th>1</th>\n",
       "      <td>2</td>\n",
       "      <td>Amy</td>\n",
       "      <td>1975</td>\n",
       "      <td>6</td>\n",
       "      <td>27</td>\n",
       "      <td>6</td>\n",
       "      <td>28.5</td>\n",
       "      <td>-79.0</td>\n",
       "      <td>tropical depression</td>\n",
       "      <td>NaN</td>\n",
       "      <td>25</td>\n",
       "      <td>1013</td>\n",
       "      <td>NaN</td>\n",
       "      <td>NaN</td>\n",
       "    </tr>\n",
       "    <tr>\n",
       "      <th>2</th>\n",
       "      <td>3</td>\n",
       "      <td>Amy</td>\n",
       "      <td>1975</td>\n",
       "      <td>6</td>\n",
       "      <td>27</td>\n",
       "      <td>12</td>\n",
       "      <td>29.5</td>\n",
       "      <td>-79.0</td>\n",
       "      <td>tropical depression</td>\n",
       "      <td>NaN</td>\n",
       "      <td>25</td>\n",
       "      <td>1013</td>\n",
       "      <td>NaN</td>\n",
       "      <td>NaN</td>\n",
       "    </tr>\n",
       "    <tr>\n",
       "      <th>3</th>\n",
       "      <td>4</td>\n",
       "      <td>Amy</td>\n",
       "      <td>1975</td>\n",
       "      <td>6</td>\n",
       "      <td>27</td>\n",
       "      <td>18</td>\n",
       "      <td>30.5</td>\n",
       "      <td>-79.0</td>\n",
       "      <td>tropical depression</td>\n",
       "      <td>NaN</td>\n",
       "      <td>25</td>\n",
       "      <td>1013</td>\n",
       "      <td>NaN</td>\n",
       "      <td>NaN</td>\n",
       "    </tr>\n",
       "    <tr>\n",
       "      <th>4</th>\n",
       "      <td>5</td>\n",
       "      <td>Amy</td>\n",
       "      <td>1975</td>\n",
       "      <td>6</td>\n",
       "      <td>28</td>\n",
       "      <td>0</td>\n",
       "      <td>31.5</td>\n",
       "      <td>-78.8</td>\n",
       "      <td>tropical depression</td>\n",
       "      <td>NaN</td>\n",
       "      <td>25</td>\n",
       "      <td>1012</td>\n",
       "      <td>NaN</td>\n",
       "      <td>NaN</td>\n",
       "    </tr>\n",
       "    <tr>\n",
       "      <th>5</th>\n",
       "      <td>6</td>\n",
       "      <td>Amy</td>\n",
       "      <td>1975</td>\n",
       "      <td>6</td>\n",
       "      <td>28</td>\n",
       "      <td>6</td>\n",
       "      <td>32.4</td>\n",
       "      <td>-78.7</td>\n",
       "      <td>tropical depression</td>\n",
       "      <td>NaN</td>\n",
       "      <td>25</td>\n",
       "      <td>1012</td>\n",
       "      <td>NaN</td>\n",
       "      <td>NaN</td>\n",
       "    </tr>\n",
       "    <tr>\n",
       "      <th>6</th>\n",
       "      <td>7</td>\n",
       "      <td>Amy</td>\n",
       "      <td>1975</td>\n",
       "      <td>6</td>\n",
       "      <td>28</td>\n",
       "      <td>12</td>\n",
       "      <td>33.3</td>\n",
       "      <td>-78.0</td>\n",
       "      <td>tropical depression</td>\n",
       "      <td>NaN</td>\n",
       "      <td>25</td>\n",
       "      <td>1011</td>\n",
       "      <td>NaN</td>\n",
       "      <td>NaN</td>\n",
       "    </tr>\n",
       "    <tr>\n",
       "      <th>7</th>\n",
       "      <td>8</td>\n",
       "      <td>Amy</td>\n",
       "      <td>1975</td>\n",
       "      <td>6</td>\n",
       "      <td>28</td>\n",
       "      <td>18</td>\n",
       "      <td>34.0</td>\n",
       "      <td>-77.0</td>\n",
       "      <td>tropical depression</td>\n",
       "      <td>NaN</td>\n",
       "      <td>30</td>\n",
       "      <td>1006</td>\n",
       "      <td>NaN</td>\n",
       "      <td>NaN</td>\n",
       "    </tr>\n",
       "    <tr>\n",
       "      <th>8</th>\n",
       "      <td>9</td>\n",
       "      <td>Amy</td>\n",
       "      <td>1975</td>\n",
       "      <td>6</td>\n",
       "      <td>29</td>\n",
       "      <td>0</td>\n",
       "      <td>34.4</td>\n",
       "      <td>-75.8</td>\n",
       "      <td>tropical storm</td>\n",
       "      <td>NaN</td>\n",
       "      <td>35</td>\n",
       "      <td>1004</td>\n",
       "      <td>NaN</td>\n",
       "      <td>NaN</td>\n",
       "    </tr>\n",
       "    <tr>\n",
       "      <th>9</th>\n",
       "      <td>10</td>\n",
       "      <td>Amy</td>\n",
       "      <td>1975</td>\n",
       "      <td>6</td>\n",
       "      <td>29</td>\n",
       "      <td>6</td>\n",
       "      <td>34.0</td>\n",
       "      <td>-74.8</td>\n",
       "      <td>tropical storm</td>\n",
       "      <td>NaN</td>\n",
       "      <td>40</td>\n",
       "      <td>1002</td>\n",
       "      <td>NaN</td>\n",
       "      <td>NaN</td>\n",
       "    </tr>\n",
       "  </tbody>\n",
       "</table>\n",
       "</div>"
      ],
      "text/plain": [
       "   rownames name  year  month  day  hour   lat  long               status  \\\n",
       "0         1  Amy  1975      6   27     0  27.5 -79.0  tropical depression   \n",
       "1         2  Amy  1975      6   27     6  28.5 -79.0  tropical depression   \n",
       "2         3  Amy  1975      6   27    12  29.5 -79.0  tropical depression   \n",
       "3         4  Amy  1975      6   27    18  30.5 -79.0  tropical depression   \n",
       "4         5  Amy  1975      6   28     0  31.5 -78.8  tropical depression   \n",
       "5         6  Amy  1975      6   28     6  32.4 -78.7  tropical depression   \n",
       "6         7  Amy  1975      6   28    12  33.3 -78.0  tropical depression   \n",
       "7         8  Amy  1975      6   28    18  34.0 -77.0  tropical depression   \n",
       "8         9  Amy  1975      6   29     0  34.4 -75.8       tropical storm   \n",
       "9        10  Amy  1975      6   29     6  34.0 -74.8       tropical storm   \n",
       "\n",
       "   category  wind  pressure  tropicalstorm_force_diameter  \\\n",
       "0       NaN    25      1013                           NaN   \n",
       "1       NaN    25      1013                           NaN   \n",
       "2       NaN    25      1013                           NaN   \n",
       "3       NaN    25      1013                           NaN   \n",
       "4       NaN    25      1012                           NaN   \n",
       "5       NaN    25      1012                           NaN   \n",
       "6       NaN    25      1011                           NaN   \n",
       "7       NaN    30      1006                           NaN   \n",
       "8       NaN    35      1004                           NaN   \n",
       "9       NaN    40      1002                           NaN   \n",
       "\n",
       "   hurricane_force_diameter  \n",
       "0                       NaN  \n",
       "1                       NaN  \n",
       "2                       NaN  \n",
       "3                       NaN  \n",
       "4                       NaN  \n",
       "5                       NaN  \n",
       "6                       NaN  \n",
       "7                       NaN  \n",
       "8                       NaN  \n",
       "9                       NaN  "
      ]
     },
     "execution_count": 91,
     "metadata": {},
     "output_type": "execute_result"
    }
   ],
   "source": [
    "import matplotlib.pyplot as plt\n",
    "import pandas as pd\n",
    "import requests\n",
    "from bs4 import BeautifulSoup\n",
    "import textwrap\n",
    "\n",
    "\n",
    "pd.read_csv(\n",
    "    \"https://vincentarelbundock.github.io/Rdatasets/csv/dplyr/storms.csv\", nrows=10\n",
    ")"
   ]
  },
  {
   "cell_type": "code",
   "execution_count": 92,
   "metadata": {},
   "outputs": [
    {
     "ename": "HTTPError",
     "evalue": "404 Client Error: Not Found for url: https://api.ons.gov.uk/timeseries/JP9Z/dataset/UNEM/data",
     "output_type": "error",
     "traceback": [
      "\u001b[1;31m---------------------------------------------------------------------------\u001b[0m",
      "\u001b[1;31mHTTPError\u001b[0m                                 Traceback (most recent call last)",
      "Cell \u001b[1;32mIn[92], line 9\u001b[0m\n\u001b[0;32m      7\u001b[0m \u001b[38;5;66;03m# Get the data from the ONS API:\u001b[39;00m\n\u001b[0;32m      8\u001b[0m response \u001b[38;5;241m=\u001b[39m requests\u001b[38;5;241m.\u001b[39mget(url)\n\u001b[1;32m----> 9\u001b[0m \u001b[43mresponse\u001b[49m\u001b[38;5;241;43m.\u001b[39;49m\u001b[43mraise_for_status\u001b[49m\u001b[43m(\u001b[49m\u001b[43m)\u001b[49m  \u001b[38;5;66;03m# Raise an HTTPError for bad responses (4xx and 5xx)\u001b[39;00m\n\u001b[0;32m     10\u001b[0m json_data \u001b[38;5;241m=\u001b[39m response\u001b[38;5;241m.\u001b[39mjson()\n\u001b[0;32m     12\u001b[0m \u001b[38;5;66;03m# Check if the structure is as expected\u001b[39;00m\n",
      "File \u001b[1;32mc:\\Users\\Administrator\\AppData\\Local\\Programs\\Python\\Python313\\Lib\\site-packages\\requests\\models.py:1024\u001b[0m, in \u001b[0;36mResponse.raise_for_status\u001b[1;34m(self)\u001b[0m\n\u001b[0;32m   1019\u001b[0m     http_error_msg \u001b[38;5;241m=\u001b[39m (\n\u001b[0;32m   1020\u001b[0m         \u001b[38;5;124mf\u001b[39m\u001b[38;5;124m\"\u001b[39m\u001b[38;5;132;01m{\u001b[39;00m\u001b[38;5;28mself\u001b[39m\u001b[38;5;241m.\u001b[39mstatus_code\u001b[38;5;132;01m}\u001b[39;00m\u001b[38;5;124m Server Error: \u001b[39m\u001b[38;5;132;01m{\u001b[39;00mreason\u001b[38;5;132;01m}\u001b[39;00m\u001b[38;5;124m for url: \u001b[39m\u001b[38;5;132;01m{\u001b[39;00m\u001b[38;5;28mself\u001b[39m\u001b[38;5;241m.\u001b[39murl\u001b[38;5;132;01m}\u001b[39;00m\u001b[38;5;124m\"\u001b[39m\n\u001b[0;32m   1021\u001b[0m     )\n\u001b[0;32m   1023\u001b[0m \u001b[38;5;28;01mif\u001b[39;00m http_error_msg:\n\u001b[1;32m-> 1024\u001b[0m     \u001b[38;5;28;01mraise\u001b[39;00m HTTPError(http_error_msg, response\u001b[38;5;241m=\u001b[39m\u001b[38;5;28mself\u001b[39m)\n",
      "\u001b[1;31mHTTPError\u001b[0m: 404 Client Error: Not Found for url: https://api.ons.gov.uk/timeseries/JP9Z/dataset/UNEM/data"
     ]
    }
   ],
   "source": [
    "import requests\n",
    "import pandas as pd\n",
    "import matplotlib.pyplot as plt\n",
    " \n",
    "url = \"https://api.ons.gov.uk/timeseries/JP9Z/dataset/UNEM/data\"#This API is being decommissioned\n",
    " \n",
    "# Get the data from the ONS API:\n",
    "response = requests.get(url)\n",
    "response.raise_for_status()  # Raise an HTTPError for bad responses (4xx and 5xx)\n",
    "json_data = response.json()\n",
    " \n",
    "# Check if the structure is as expected\n",
    "if 'description' in json_data and 'title' in json_data['description']:\n",
    "    title = json_data['description']['title']\n",
    "else:\n",
    "    title = \"Unknown Title\"  # Fallback if title is not found\n",
    " \n",
    "# Prep the data for a quick plot\n",
    "try:\n",
    "    months_data = json_data.get('months', [])\n",
    "    df = (\n",
    "        pd.DataFrame(pd.json_normalize(months_data))\n",
    "        .assign(\n",
    "            date=lambda x: pd.to_datetime(x['date']),\n",
    "            value=lambda x: pd.to_numeric(x['value'], errors='coerce')  # Coerce errors to NaN\n",
    "        )\n",
    "        .set_index(\"date\")\n",
    "    )\n",
    "    df = df.dropna()  # Drop rows with NaN values\n",
    " \n",
    "    # Plot the data\n",
    "    df['value'].plot(title=title, ylim=(0, df['value'].max() * 1.2), lw=3.0)\n",
    "    plt.show()\n",
    "except Exception as e:\n",
    "    print(f\"An error occurred: {e}\")"
   ]
  },
  {
   "cell_type": "code",
   "execution_count": 12,
   "metadata": {},
   "outputs": [
    {
     "data": {
      "image/png": "[encoded data removed]",
      "text/plain": [
       "<Figure size 640x480 with 1 Axes>"
      ]
     },
     "metadata": {},
     "output_type": "display_data"
    }
   ],
   "source": [
    "import pandas_datareader.data as web\n",
    "\n",
    "df_u = web.DataReader(\"LRHUTTTTGBM156S\", \"fred\")\n",
    "\n",
    "df_u.plot(title=\"UK unemployment (percent)\", legend=False, ylim=(2, 6), lw=3.0);"
   ]
  },
  {
   "cell_type": "code",
   "execution_count": 15,
   "metadata": {},
   "outputs": [
    {
     "name": "stderr",
     "output_type": "stream",
     "text": [
      "c:\\Users\\Administrator\\AppData\\Local\\Programs\\Python\\Python313\\Lib\\site-packages\\pandas_datareader\\wb.py:592: UserWarning: Non-standard ISO country codes: Z4, Z7\n",
      "  warnings.warn(\n",
      "C:\\Users\\Administrator\\AppData\\Local\\Temp\\ipykernel_8528\\2700678859.py:11: FutureWarning: errors='ignore' is deprecated and will raise in a future version. Use to_numeric without passing `errors` and catch exceptions explicitly instead\n",
      "  df = wb.download(\n"
     ]
    },
    {
     "data": {
      "text/html": [
       "<div>\n",
       "<style scoped>\n",
       "    .dataframe tbody tr th:only-of-type {\n",
       "        vertical-align: middle;\n",
       "    }\n",
       "\n",
       "    .dataframe tbody tr th {\n",
       "        vertical-align: top;\n",
       "    }\n",
       "\n",
       "    .dataframe thead th {\n",
       "        text-align: right;\n",
       "    }\n",
       "</style>\n",
       "<table border=\"1\" class=\"dataframe\">\n",
       "  <thead>\n",
       "    <tr style=\"text-align: right;\">\n",
       "      <th></th>\n",
       "      <th>country</th>\n",
       "      <th>year</th>\n",
       "      <th>EN.GHG.CO2.PC.CE.AR5</th>\n",
       "    </tr>\n",
       "  </thead>\n",
       "  <tbody>\n",
       "    <tr>\n",
       "      <th>3</th>\n",
       "      <td>India</td>\n",
       "      <td>2017</td>\n",
       "      <td>1.797468</td>\n",
       "    </tr>\n",
       "    <tr>\n",
       "      <th>1</th>\n",
       "      <td>East Asia\\n&amp; Pacific</td>\n",
       "      <td>2017</td>\n",
       "      <td>6.528271</td>\n",
       "    </tr>\n",
       "    <tr>\n",
       "      <th>2</th>\n",
       "      <td>Europe &amp;\\nCentral\\nAsia</td>\n",
       "      <td>2017</td>\n",
       "      <td>7.208893</td>\n",
       "    </tr>\n",
       "    <tr>\n",
       "      <th>0</th>\n",
       "      <td>China</td>\n",
       "      <td>2017</td>\n",
       "      <td>7.897143</td>\n",
       "    </tr>\n",
       "    <tr>\n",
       "      <th>4</th>\n",
       "      <td>United\\nStates</td>\n",
       "      <td>2017</td>\n",
       "      <td>15.254673</td>\n",
       "    </tr>\n",
       "  </tbody>\n",
       "</table>\n",
       "</div>"
      ],
      "text/plain": [
       "                   country  year  EN.GHG.CO2.PC.CE.AR5\n",
       "3                    India  2017              1.797468\n",
       "1     East Asia\\n& Pacific  2017              6.528271\n",
       "2  Europe &\\nCentral\\nAsia  2017              7.208893\n",
       "0                    China  2017              7.897143\n",
       "4           United\\nStates  2017             15.254673"
      ]
     },
     "execution_count": 15,
     "metadata": {},
     "output_type": "execute_result"
    }
   ],
   "source": [
    "# World Bank CO2 emissions (metric tons per capita)\n",
    "# https://data.worldbank.org/indicator/EN.ATM.CO2E.PC\n",
    "# World Bank pop\n",
    "# https://data.worldbank.org/indicator/SP.POP.TOTL\n",
    "# country and region codes at http://api.worldbank.org/v2/country\n",
    "import warnings\n",
    "\n",
    "warnings.filterwarnings(\"ignore\", category=UserWarning, module='openpyxl')\n",
    "import textwrap\n",
    "from pandas_datareader import wb\n",
    "df = wb.download(\n",
    "    indicator=\"EN.GHG.CO2.PC.CE.AR5\",\n",
    "    country=[\"US\", \"CHN\", \"IND\", \"Z4\", \"Z7\"],\n",
    "    start=2017,\n",
    "    end=2017,\n",
    ")\n",
    "# remove country as index for ease of plotting with seaborn\n",
    "df = df.reset_index()\n",
    "# wrap long country names\n",
    "df[\"country\"] = df[\"country\"].apply(lambda x: textwrap.fill(x, 10))\n",
    "# order based on size\n",
    "df = df.sort_values(\"EN.GHG.CO2.PC.CE.AR5\")\n",
    "df.head()"
   ]
  },
  {
   "cell_type": "code",
   "execution_count": 18,
   "metadata": {},
   "outputs": [
    {
     "data": {
      "image/png": "[encoded data removed]",
      "text/plain": [
       "<Figure size 640x480 with 1 Axes>"
      ]
     },
     "metadata": {},
     "output_type": "display_data"
    }
   ],
   "source": [
    "import seaborn as sns\n",
    "\n",
    "fig, ax = plt.subplots()\n",
    "sns.barplot(x=\"country\", y=\"EN.GHG.CO2.PC.CE.AR5\", data=df.reset_index(), ax=ax)\n",
    "ax.set_title(r\"CO$_2$ (metric tons per capita)\", loc=\"right\")\n",
    "plt.suptitle(\"The USA leads the world on per-capita emissions\", y=1.01)\n",
    "for key, spine in ax.spines.items():\n",
    "    spine.set_visible(False)\n",
    "ax.set_ylabel(\"\")\n",
    "ax.set_xlabel(\"\")\n",
    "ax.yaxis.tick_right()\n",
    "plt.show()"
   ]
  },
  {
   "cell_type": "code",
   "execution_count": 97,
   "metadata": {},
   "outputs": [
    {
     "ename": "TypeError",
     "evalue": "ForwardRef._evaluate() missing 1 required keyword-only argument: 'recursive_guard'",
     "output_type": "error",
     "traceback": [
      "\u001b[1;31m---------------------------------------------------------------------------\u001b[0m",
      "\u001b[1;31mTypeError\u001b[0m                                 Traceback (most recent call last)",
      "Cell \u001b[1;32mIn[97], line 1\u001b[0m\n\u001b[1;32m----> 1\u001b[0m \u001b[38;5;28;01mimport\u001b[39;00m \u001b[38;5;21;01mpandasdmx\u001b[39;00m \u001b[38;5;28;01mas\u001b[39;00m \u001b[38;5;21;01mpdmx\u001b[39;00m\n\u001b[0;32m      2\u001b[0m \u001b[38;5;66;03m# Tell pdmx we want OECD data\u001b[39;00m\n\u001b[0;32m      3\u001b[0m oecd \u001b[38;5;241m=\u001b[39m pdmx\u001b[38;5;241m.\u001b[39mRequest(\u001b[38;5;124m\"\u001b[39m\u001b[38;5;124mOECD\u001b[39m\u001b[38;5;124m\"\u001b[39m)\n",
      "File \u001b[1;32mc:\\Users\\Administrator\\AppData\\Local\\Programs\\Python\\Python313\\Lib\\site-packages\\pandasdmx\\__init__.py:4\u001b[0m\n\u001b[0;32m      1\u001b[0m \u001b[38;5;124;03m\"\"\"Statistical Data and Metadata eXchange (SDMX) for the Python data ecosystem\"\"\"\u001b[39;00m\n\u001b[1;32m----> 4\u001b[0m \u001b[38;5;28;01mfrom\u001b[39;00m \u001b[38;5;21;01mpandasdmx\u001b[39;00m\u001b[38;5;21;01m.\u001b[39;00m\u001b[38;5;21;01mapi\u001b[39;00m \u001b[38;5;28;01mimport\u001b[39;00m Request, read_url\n\u001b[0;32m      5\u001b[0m \u001b[38;5;28;01mfrom\u001b[39;00m \u001b[38;5;21;01mpandasdmx\u001b[39;00m\u001b[38;5;21;01m.\u001b[39;00m\u001b[38;5;21;01mreader\u001b[39;00m \u001b[38;5;28;01mimport\u001b[39;00m read_sdmx\n\u001b[0;32m      6\u001b[0m \u001b[38;5;28;01mfrom\u001b[39;00m \u001b[38;5;21;01mpandasdmx\u001b[39;00m\u001b[38;5;21;01m.\u001b[39;00m\u001b[38;5;21;01msource\u001b[39;00m \u001b[38;5;28;01mimport\u001b[39;00m add_source, list_sources\n",
      "File \u001b[1;32mc:\\Users\\Administrator\\AppData\\Local\\Programs\\Python\\Python313\\Lib\\site-packages\\pandasdmx\\api.py:16\u001b[0m\n\u001b[0;32m     13\u001b[0m \u001b[38;5;28;01mimport\u001b[39;00m \u001b[38;5;21;01mrequests\u001b[39;00m\n\u001b[0;32m     15\u001b[0m \u001b[38;5;28;01mfrom\u001b[39;00m \u001b[38;5;21;01mpandasdmx\u001b[39;00m \u001b[38;5;28;01mimport\u001b[39;00m remote\n\u001b[1;32m---> 16\u001b[0m \u001b[38;5;28;01mfrom\u001b[39;00m \u001b[38;5;21;01mpandasdmx\u001b[39;00m\u001b[38;5;21;01m.\u001b[39;00m\u001b[38;5;21;01mreader\u001b[39;00m \u001b[38;5;28;01mimport\u001b[39;00m get_reader_for_content_type\n\u001b[0;32m     18\u001b[0m \u001b[38;5;28;01mfrom\u001b[39;00m \u001b[38;5;21;01m.\u001b[39;00m\u001b[38;5;21;01mmessage\u001b[39;00m \u001b[38;5;28;01mimport\u001b[39;00m Message\n\u001b[0;32m     19\u001b[0m \u001b[38;5;28;01mfrom\u001b[39;00m \u001b[38;5;21;01m.\u001b[39;00m\u001b[38;5;21;01mmodel\u001b[39;00m \u001b[38;5;28;01mimport\u001b[39;00m DataStructureDefinition, MaintainableArtefact\n",
      "File \u001b[1;32mc:\\Users\\Administrator\\AppData\\Local\\Programs\\Python\\Python313\\Lib\\site-packages\\pandasdmx\\reader\\__init__.py:4\u001b[0m\n\u001b[0;32m      1\u001b[0m \u001b[38;5;28;01mfrom\u001b[39;00m \u001b[38;5;21;01mpathlib\u001b[39;00m \u001b[38;5;28;01mimport\u001b[39;00m Path\n\u001b[0;32m      2\u001b[0m \u001b[38;5;28;01mfrom\u001b[39;00m \u001b[38;5;21;01mtyping\u001b[39;00m \u001b[38;5;28;01mimport\u001b[39;00m List, Mapping, Type\n\u001b[1;32m----> 4\u001b[0m \u001b[38;5;28;01mfrom\u001b[39;00m \u001b[38;5;21;01m.\u001b[39;00m \u001b[38;5;28;01mimport\u001b[39;00m sdmxjson, sdmxml\n\u001b[0;32m      7\u001b[0m \u001b[38;5;66;03m#: Reader classes\u001b[39;00m\n\u001b[0;32m      8\u001b[0m READERS: List[Type] \u001b[38;5;241m=\u001b[39m []\n",
      "File \u001b[1;32mc:\\Users\\Administrator\\AppData\\Local\\Programs\\Python\\Python313\\Lib\\site-packages\\pandasdmx\\reader\\sdmxjson.py:4\u001b[0m\n\u001b[0;32m      1\u001b[0m \u001b[38;5;124;03m\"\"\"SDMX-JSON v2.1 reader\"\"\"\u001b[39;00m\n\u001b[0;32m      2\u001b[0m \u001b[38;5;28;01mimport\u001b[39;00m \u001b[38;5;21;01mjson\u001b[39;00m\n\u001b[1;32m----> 4\u001b[0m \u001b[38;5;28;01mfrom\u001b[39;00m \u001b[38;5;21;01mpandasdmx\u001b[39;00m \u001b[38;5;28;01mimport\u001b[39;00m model\n\u001b[0;32m      5\u001b[0m \u001b[38;5;28;01mfrom\u001b[39;00m \u001b[38;5;21;01mpandasdmx\u001b[39;00m\u001b[38;5;21;01m.\u001b[39;00m\u001b[38;5;21;01mmessage\u001b[39;00m \u001b[38;5;28;01mimport\u001b[39;00m DataMessage, Header\n\u001b[0;32m      6\u001b[0m \u001b[38;5;28;01mfrom\u001b[39;00m \u001b[38;5;21;01mpandasdmx\u001b[39;00m\u001b[38;5;21;01m.\u001b[39;00m\u001b[38;5;21;01mmodel\u001b[39;00m \u001b[38;5;28;01mimport\u001b[39;00m (\n\u001b[0;32m      7\u001b[0m     ActionType,\n\u001b[0;32m      8\u001b[0m     AllDimensions,\n\u001b[1;32m   (...)\u001b[0m\n\u001b[0;32m     15\u001b[0m     SeriesKey,\n\u001b[0;32m     16\u001b[0m )\n",
      "File \u001b[1;32mc:\\Users\\Administrator\\AppData\\Local\\Programs\\Python\\Python313\\Lib\\site-packages\\pandasdmx\\model.py:513\u001b[0m\n\u001b[0;32m    509\u001b[0m                 \u001b[38;5;28;01mreturn\u001b[39;00m c\n\u001b[0;32m    510\u001b[0m         \u001b[38;5;28;01mraise\u001b[39;00m \u001b[38;5;167;01mValueError\u001b[39;00m(\u001b[38;5;28mid\u001b[39m)\n\u001b[1;32m--> 513\u001b[0m \u001b[43mItem\u001b[49m\u001b[38;5;241;43m.\u001b[39;49m\u001b[43mupdate_forward_refs\u001b[49m\u001b[43m(\u001b[49m\u001b[43m)\u001b[49m\n\u001b[0;32m    515\u001b[0m IT \u001b[38;5;241m=\u001b[39m TypeVar(\u001b[38;5;124m\"\u001b[39m\u001b[38;5;124mIT\u001b[39m\u001b[38;5;124m\"\u001b[39m, bound\u001b[38;5;241m=\u001b[39mItem)\n\u001b[0;32m    518\u001b[0m \u001b[38;5;28;01mclass\u001b[39;00m \u001b[38;5;21;01mItemScheme\u001b[39;00m(MaintainableArtefact, Generic[IT]):\n",
      "File \u001b[1;32mc:\\Users\\Administrator\\AppData\\Local\\Programs\\Python\\Python313\\Lib\\site-packages\\pydantic\\main.py:762\u001b[0m, in \u001b[0;36mBaseModel.update_forward_refs\u001b[1;34m(cls, **localns)\u001b[0m\n\u001b[0;32m    760\u001b[0m globalns\u001b[38;5;241m.\u001b[39msetdefault(\u001b[38;5;28mcls\u001b[39m\u001b[38;5;241m.\u001b[39m\u001b[38;5;18m__name__\u001b[39m, \u001b[38;5;28mcls\u001b[39m)\n\u001b[0;32m    761\u001b[0m \u001b[38;5;28;01mfor\u001b[39;00m f \u001b[38;5;129;01min\u001b[39;00m \u001b[38;5;28mcls\u001b[39m\u001b[38;5;241m.\u001b[39m__fields__\u001b[38;5;241m.\u001b[39mvalues():\n\u001b[1;32m--> 762\u001b[0m     \u001b[43mupdate_field_forward_refs\u001b[49m\u001b[43m(\u001b[49m\u001b[43mf\u001b[49m\u001b[43m,\u001b[49m\u001b[43m \u001b[49m\u001b[43mglobalns\u001b[49m\u001b[38;5;241;43m=\u001b[39;49m\u001b[43mglobalns\u001b[49m\u001b[43m,\u001b[49m\u001b[43m \u001b[49m\u001b[43mlocalns\u001b[49m\u001b[38;5;241;43m=\u001b[39;49m\u001b[43mlocalns\u001b[49m\u001b[43m)\u001b[49m\n",
      "File \u001b[1;32mc:\\Users\\Administrator\\AppData\\Local\\Programs\\Python\\Python313\\Lib\\site-packages\\pydantic\\typing.py:293\u001b[0m, in \u001b[0;36mupdate_field_forward_refs\u001b[1;34m(field, globalns, localns)\u001b[0m\n\u001b[0;32m    289\u001b[0m \u001b[38;5;250m\u001b[39m\u001b[38;5;124;03m\"\"\"\u001b[39;00m\n\u001b[0;32m    290\u001b[0m \u001b[38;5;124;03mTry to update ForwardRefs on fields based on this ModelField, globalns and localns.\u001b[39;00m\n\u001b[0;32m    291\u001b[0m \u001b[38;5;124;03m\"\"\"\u001b[39;00m\n\u001b[0;32m    292\u001b[0m \u001b[38;5;28;01mif\u001b[39;00m field\u001b[38;5;241m.\u001b[39mtype_\u001b[38;5;241m.\u001b[39m\u001b[38;5;18m__class__\u001b[39m \u001b[38;5;241m==\u001b[39m ForwardRef:\n\u001b[1;32m--> 293\u001b[0m     field\u001b[38;5;241m.\u001b[39mtype_ \u001b[38;5;241m=\u001b[39m \u001b[43mevaluate_forwardref\u001b[49m\u001b[43m(\u001b[49m\u001b[43mfield\u001b[49m\u001b[38;5;241;43m.\u001b[39;49m\u001b[43mtype_\u001b[49m\u001b[43m,\u001b[49m\u001b[43m \u001b[49m\u001b[43mglobalns\u001b[49m\u001b[43m,\u001b[49m\u001b[43m \u001b[49m\u001b[43mlocalns\u001b[49m\u001b[43m \u001b[49m\u001b[38;5;129;43;01mor\u001b[39;49;00m\u001b[43m \u001b[49m\u001b[38;5;28;43;01mNone\u001b[39;49;00m\u001b[43m)\u001b[49m\n\u001b[0;32m    294\u001b[0m     field\u001b[38;5;241m.\u001b[39mprepare()\n\u001b[0;32m    295\u001b[0m \u001b[38;5;28;01mif\u001b[39;00m field\u001b[38;5;241m.\u001b[39msub_fields:\n",
      "File \u001b[1;32mc:\\Users\\Administrator\\AppData\\Local\\Programs\\Python\\Python313\\Lib\\site-packages\\pydantic\\typing.py:62\u001b[0m, in \u001b[0;36mevaluate_forwardref\u001b[1;34m(type_, globalns, localns)\u001b[0m\n\u001b[0;32m     59\u001b[0m \u001b[38;5;28;01mdef\u001b[39;00m \u001b[38;5;21mevaluate_forwardref\u001b[39m(type_: ForwardRef, globalns: Any, localns: Any) \u001b[38;5;241m-\u001b[39m\u001b[38;5;241m>\u001b[39m Any:\n\u001b[0;32m     60\u001b[0m     \u001b[38;5;66;03m# Even though it is the right signature for python 3.9, mypy complains with\u001b[39;00m\n\u001b[0;32m     61\u001b[0m     \u001b[38;5;66;03m# `error: Too many arguments for \"_evaluate\" of \"ForwardRef\"` hence the cast...\u001b[39;00m\n\u001b[1;32m---> 62\u001b[0m     \u001b[38;5;28;01mreturn\u001b[39;00m \u001b[43mcast\u001b[49m\u001b[43m(\u001b[49m\u001b[43mAny\u001b[49m\u001b[43m,\u001b[49m\u001b[43m \u001b[49m\u001b[43mtype_\u001b[49m\u001b[43m)\u001b[49m\u001b[38;5;241;43m.\u001b[39;49m\u001b[43m_evaluate\u001b[49m\u001b[43m(\u001b[49m\u001b[43mglobalns\u001b[49m\u001b[43m,\u001b[49m\u001b[43m \u001b[49m\u001b[43mlocalns\u001b[49m\u001b[43m,\u001b[49m\u001b[43m \u001b[49m\u001b[38;5;28;43mset\u001b[39;49m\u001b[43m(\u001b[49m\u001b[43m)\u001b[49m\u001b[43m)\u001b[49m\n",
      "\u001b[1;31mTypeError\u001b[0m: ForwardRef._evaluate() missing 1 required keyword-only argument: 'recursive_guard'"
     ]
    }
   ],
   "source": [
    "import pandasdmx as pdmx\n",
    "# Tell pdmx we want OECD data\n",
    "oecd = pdmx.Request(\"OECD\")\n",
    "# Set out everything about the request in the format specified by the OECD API\n",
    "data = oecd.data(\n",
    "    resource_id=\"PDB_LV\",#Can't find this resource id\n",
    "    key=\"GBR+FRA+CAN+ITA+DEU+JPN+USA.T_GDPEMP.CPC/all?startTime=2010\",\n",
    ").to_pandas()\n",
    "\n",
    "df = pd.DataFrame(data).reset_index()\n",
    "df.head()"
   ]
  },
  {
   "cell_type": "code",
   "execution_count": 33,
   "metadata": {},
   "outputs": [
    {
     "data": {
      "text/plain": [
       "'<!DOCTYPE html>\\n<html xmlns=\"http://www.w3.org/1999/xhtml\" lang=\"en\" xml:lang=\"en\"><head>\\n\\n<meta charset=\"utf-8\">\\n<meta name=\"generator\" content=\"quarto-1.5.56\">\\n\\n<meta name=\"viewport\" content=\"width=device-width, initial-scale=1.0, user-scalable=yes\">\\n\\n<meta name=\"author\" content=\"Arthur Turrell\">\\n'"
      ]
     },
     "execution_count": 33,
     "metadata": {},
     "output_type": "execute_result"
    }
   ],
   "source": [
    "url = \"http://aeturrell.com/research\"\n",
    "page = requests.get(url)\n",
    "page.text[:300]"
   ]
  },
  {
   "cell_type": "code",
   "execution_count": 34,
   "metadata": {},
   "outputs": [
    {
     "name": "stdout",
     "output_type": "stream",
     "text": [
      "       </div>\n",
      "          <div class=\"project-category\">\n",
      "           <a href=\"#category=gender pay gap\">\n",
      "            gender pay gap\n",
      "           </a>\n",
      "          </div>\n",
      "          <div class=\"project-category\">\n",
      "           <a href=\"#category=labour\">\n",
      "            labour\n",
      "           </a>\n",
      "          </div>\n",
      "          <div class=\"project-category\">\n",
      "           <a href=\"#category=text analysis\">\n",
      "            text analysis\n",
      "           </a>\n",
      "          </div>\n",
      "         </div>\n",
      "         <div class=\"project-details-listing\n"
     ]
    }
   ],
   "source": [
    "soup = BeautifulSoup(page.text, \"html.parser\")\n",
    "print(soup.prettify()[60000:60500])"
   ]
  },
  {
   "cell_type": "code",
   "execution_count": 35,
   "metadata": {},
   "outputs": [
    {
     "data": {
      "text/plain": [
       "<p>Botta, Federico, Robin Lovelace, Laura Gilbert, and Arthur Turrell. \"Packaging code and data for reproducible research: A case study of journey time statistics.\" <i>Environment and Planning B: Urban Analytics and City Science</i> (2024): 23998083241267331. doi: <a href=\"https://doi.org/10.1177/23998083241267331\"><code>10.1177/23998083241267331</code></a></p>"
      ]
     },
     "execution_count": 35,
     "metadata": {},
     "output_type": "execute_result"
    }
   ],
   "source": [
    "# Get all paragraphs\n",
    "all_paras = soup.find_all(\"p\")\n",
    "# Just show one of the paras\n",
    "all_paras[1]\n"
   ]
  },
  {
   "cell_type": "code",
   "execution_count": 36,
   "metadata": {},
   "outputs": [
    {
     "data": {
      "text/plain": [
       "'Botta, Federico, Robin Lovelace, Laura Gilbert, and Arthur Turrell. \"Packaging code and data for reproducible research: A case study of journey time statistics.\" Environment and Planning B: Urban Analytics and City Science (2024): 23998083241267331. doi: 10.1177/23998083241267331'"
      ]
     },
     "execution_count": 36,
     "metadata": {},
     "output_type": "execute_result"
    }
   ],
   "source": [
    "all_paras[1].text"
   ]
  },
  {
   "cell_type": "code",
   "execution_count": 52,
   "metadata": {},
   "outputs": [
    {
     "data": {
      "text/plain": [
       "['Botta, Federico, Robin Lovelace, Laura Gilbert, and Arthur Turrell. \"Packaging code and data for reproducible research: A case study of journey time statistics.\" Environment and Planning B: Urban Analytics and City Science (2024): 23998083241267331. doi: 10.1177/23998083241267331',\n",
       " 'Kalamara, Eleni, Arthur Turrell, Chris Redl, George Kapetanios, and Sujit Kapadia. \"Making text count: economic forecasting using newspaper text.\" Journal of Applied Econometrics 37, no. 5 (2022): 896-919. doi: 10.1002/jae.2907',\n",
       " 'Turrell, A., Speigner, B., Copple, D., Djumalieva, J. and Thurgood, J., 2021. Is the UK’s productivity puzzle mostly driven by occupational mismatch? An analysis using big data on job vacancies. Labour Economics, 71, p.102013. doi: 10.1016/j.labeco.2021.102013',\n",
       " 'Haldane, Andrew G., and Arthur E. Turrell. \"Drawing on different disciplines: macroeconomic agent-based models.\" Journal of Evolutionary Economics 29 (2019): 39-66. doi: 10.1007/s00191-018-0557-5']"
      ]
     },
     "execution_count": 52,
     "metadata": {},
     "output_type": "execute_result"
    }
   ],
   "source": [
    "projects = soup.find_all(\"div\", class_=\"project-content listing-pub-info\")\n",
    "projects = [x.text.strip() for x in projects]\n",
    "projects[:4]"
   ]
  },
  {
   "cell_type": "code",
   "execution_count": 74,
   "metadata": {},
   "outputs": [
    {
     "data": {
      "text/html": [
       "<div>\n",
       "<style scoped>\n",
       "    .dataframe tbody tr th:only-of-type {\n",
       "        vertical-align: middle;\n",
       "    }\n",
       "\n",
       "    .dataframe tbody tr th {\n",
       "        vertical-align: top;\n",
       "    }\n",
       "\n",
       "    .dataframe thead th {\n",
       "        text-align: right;\n",
       "    }\n",
       "</style>\n",
       "<table border=\"1\" class=\"dataframe\">\n",
       "  <thead>\n",
       "    <tr style=\"text-align: right;\">\n",
       "      <th></th>\n",
       "      <th>Years</th>\n",
       "      <th>Hosts</th>\n",
       "      <th>Winners</th>\n",
       "      <th>Score</th>\n",
       "      <th>Runner's-up</th>\n",
       "      <th>Third place</th>\n",
       "      <th>Score.1</th>\n",
       "      <th>Fourth place</th>\n",
       "    </tr>\n",
       "  </thead>\n",
       "  <tbody>\n",
       "    <tr>\n",
       "      <th>0</th>\n",
       "      <td>1930 Details</td>\n",
       "      <td>Uruguay</td>\n",
       "      <td>Uruguay</td>\n",
       "      <td>4 - 2</td>\n",
       "      <td>Argentina</td>\n",
       "      <td>United States</td>\n",
       "      <td>[note 1]</td>\n",
       "      <td>Yugoslavia</td>\n",
       "    </tr>\n",
       "    <tr>\n",
       "      <th>1</th>\n",
       "      <td>1934 Details</td>\n",
       "      <td>Italy</td>\n",
       "      <td>Italy</td>\n",
       "      <td>2 - 1</td>\n",
       "      <td>Czechoslovakia</td>\n",
       "      <td>Germany</td>\n",
       "      <td>3 - 2</td>\n",
       "      <td>Austria</td>\n",
       "    </tr>\n",
       "    <tr>\n",
       "      <th>2</th>\n",
       "      <td>1938 Details</td>\n",
       "      <td>France</td>\n",
       "      <td>Italy</td>\n",
       "      <td>4 - 2</td>\n",
       "      <td>Hungary</td>\n",
       "      <td>Brazil</td>\n",
       "      <td>4 - 2</td>\n",
       "      <td>Sweden</td>\n",
       "    </tr>\n",
       "    <tr>\n",
       "      <th>3</th>\n",
       "      <td>1950 Details</td>\n",
       "      <td>Brazil</td>\n",
       "      <td>Uruguay</td>\n",
       "      <td>2 - 1</td>\n",
       "      <td>Brazil</td>\n",
       "      <td>Sweden</td>\n",
       "      <td>[note 2]</td>\n",
       "      <td>Spain</td>\n",
       "    </tr>\n",
       "    <tr>\n",
       "      <th>4</th>\n",
       "      <td>1954 Details</td>\n",
       "      <td>Switzerland</td>\n",
       "      <td>West Germany</td>\n",
       "      <td>3 - 2</td>\n",
       "      <td>Hungary</td>\n",
       "      <td>Austria</td>\n",
       "      <td>3 - 1</td>\n",
       "      <td>Uruguay</td>\n",
       "    </tr>\n",
       "  </tbody>\n",
       "</table>\n",
       "</div>"
      ],
      "text/plain": [
       "          Years        Hosts       Winners  Score     Runner's-up  \\\n",
       "0  1930 Details      Uruguay       Uruguay  4 - 2       Argentina   \n",
       "1  1934 Details        Italy         Italy  2 - 1  Czechoslovakia   \n",
       "2  1938 Details       France         Italy  4 - 2         Hungary   \n",
       "3  1950 Details       Brazil       Uruguay  2 - 1          Brazil   \n",
       "4  1954 Details  Switzerland  West Germany  3 - 2         Hungary   \n",
       "\n",
       "     Third place   Score.1 Fourth place  \n",
       "0  United States  [note 1]   Yugoslavia  \n",
       "1        Germany     3 - 2      Austria  \n",
       "2         Brazil     4 - 2       Sweden  \n",
       "3         Sweden  [note 2]        Spain  \n",
       "4        Austria     3 - 1      Uruguay  "
      ]
     },
     "execution_count": 74,
     "metadata": {},
     "output_type": "execute_result"
    }
   ],
   "source": [
    "df_list = pd.read_html(\n",
    "    \"https://simple.wikipedia.org/wiki/FIFA_World_Cup\", match=\"Sweden\"\n",
    ")\n",
    "# Retrieve first and only entry from list of dataframes\n",
    "df = df_list[0]\n",
    "df.head()"
   ]
  },
  {
   "cell_type": "code",
   "execution_count": 2,
   "metadata": {},
   "outputs": [
    {
     "name": "stdout",
     "output_type": "stream",
     "text": [
      "3 \n",
      " \n",
      "2 Quantifying Fuel-Saving Opportunities from Specific Driving \n",
      "Behavior Changes \n",
      "2.1 \n",
      "Savings from Improving Individual Driving Profiles \n",
      "2.1.1 Drive Profile Subsample from Real-World Travel Survey \n",
      "The interim repo\n"
     ]
    }
   ],
   "source": [
    "import fitz #Couldn't be read with the pdftotext function because of the version, so it's replaced with the PyMuPDF\n",
    "from pathlib import Path\n",
    " \n",
    "\n",
    "pdf_path = Path(\"data/pdf_with_table.pdf\")  \n",
    "\n",
    "try:\n",
    "    pdf_document = fitz.open(pdf_path)  \n",
    "    all_text = \"\" \n",
    " \n",
    "    for page_num in range(pdf_document.page_count):\n",
    "        page = pdf_document.load_page(page_num) \n",
    "        page_text = page.get_text()  \n",
    "        all_text += page_text + \"\\n\\n\"  \n",
    "    \n",
    "    print(all_text[:220])  \n",
    " \n",
    "finally:\n",
    "\n",
    "    pdf_document.close() \n",
    " "
   ]
  },
  {
   "cell_type": "code",
   "execution_count": 1,
   "metadata": {},
   "outputs": [
    {
     "name": "stdout",
     "output_type": "stream",
     "text": [
      "['Cycle\\nName', 'KI\\n(1/km)', 'Distance\\n(mi)', 'Percent Fuel Savings', None, None, None]\n",
      "[None, None, None, 'Improved\\nSpeed', 'Decreased\\nAccel', 'Eliminate\\nStops', 'Decreased\\nIdle']\n",
      "['2012_2', '3.30', '1.3', '5.9%', '9.5%', '29.2%', '17.4%']\n",
      "['2145_1', '0.68', '11.2', '2.4%', '0.1%', '9.5%', '2.7%']\n",
      "['4234_1', '0.59', '58.7', '8.5%', '1.3%', '8.5%', '3.3%']\n",
      "['2032_2', '0.17', '57.8', '21.7%', '0.3%', '2.7%', '1.2%']\n",
      "['4171_1', '0.07', '173.9', '58.1%', '1.6%', '2.1%', '0.5%']\n"
     ]
    }
   ],
   "source": [
    "import pdfplumber #Changed functions due to system version\n",
    " \n",
    "with pdfplumber.open('data/pdf_with_table.pdf') as pdf:\n",
    "\n",
    "    for page in pdf.pages:   \n",
    "        tables = page.extract_tables()\n",
    "        table = tables[0]\n",
    "        for row in table:\n",
    "            print(row)"
   ]
  },
  {
   "cell_type": "code",
   "execution_count": null,
   "metadata": {},
   "outputs": [],
   "source": [
    "#import textract\n",
    "#text = textract.process(Path('path/to/file.extension'))\n",
    "#Currently, this third-party library does not run on Windows."
   ]
  },
  {
   "cell_type": "markdown",
   "metadata": {},
   "source": [
    "# 2.Go through https://www.geeksforgeeks.org/scrape-imdb-movie-rating-and-detalls-using-python/. Recreate the code on your machine."
   ]
  },
  {
   "cell_type": "code",
   "execution_count": null,
   "metadata": {},
   "outputs": [],
   "source": [
    "from bs4 import BeautifulSoup\n",
    "import requests\n",
    "import pandas as pd\n",
    "from time import sleep"
   ]
  },
  {
   "cell_type": "code",
   "execution_count": null,
   "metadata": {},
   "outputs": [],
   "source": [
    "headers = {\n",
    "    'User-Agent': 'Mozilla/5.0 (X11; Linux x86_64; rv:109.0) Gecko/20100101 Firefox/116.0',\n",
    "    'Accept': '*/*',\n",
    "    'Accept-Language': 'zh-CN,zh;q=0.8,zh-TW;q=0.7,zh-HK;q=0.5,en-US;q=0.3,en;q=0.2',\n",
    "    'Accept-Encoding': 'gzip, deflate, br',\n",
    "    'Content-Type': 'text/plain;charset=UTF-8',\n",
    "}\n",
    "\n",
    "url = 'https://www.imdb.com/chart/top'\n",
    "response = requests.get(url, headers=headers)\n",
    "soup = BeautifulSoup(response.text, \"html.parser\")\n",
    "movies = soup.select('li.ipc-metadata-list-summary-item')"
   ]
  },
  {
   "cell_type": "code",
   "execution_count": null,
   "metadata": {},
   "outputs": [],
   "source": [
    "index = 0\n",
    "\n",
    "title_string = movies[index].select('h3')[0].text.split(\". \")\n",
    "place = title_string[0]\n",
    "movie_title = title_string[1]\n",
    "rating = movies[index].select('span.ipc-rating-star--rating')[0].text\n",
    "year = movies[index].select('span.cli-title-metadata-item')[0].text\n",
    "title_id_href = movies[0].select('a.ipc-lockup-overlay')[0].get('href')\n",
    "title_id = title_id_href.split(\"/\")[2]\n",
    "stats_url = 'https://caching.graphql.imdb.com/?operationName=Title_Summary_Prompt_From_Base&variables={\"id\":\"' + title_id + '\",\"locale\":\"zh-CN\",\"location\":{\"latLong\":{\"lat\":\"22.3\",\"long\":\"114.2\"}},\"promotedProvider\":null,\"providerId\":null}&extensions={\"persistedQuery\":{\"sha256Hash\":\"28fdb27482f0852bc70811f36a5fab72e9afd1589b37c5e1aaecf438d418f6c7\",\"version\":1}}'\n",
    "stats_response = requests.get(stats_url, headers=headers)\n",
    "stats_json_data = stats_response.json()\n",
    "stats = ', '.join([item['name']['nameText']['text'] for item in stats_json_data['data']['title']['principalCast'][0]['credits']])\n",
    "stats_json_data"
   ]
  },
  {
   "cell_type": "code",
   "execution_count": null,
   "metadata": {},
   "outputs": [],
   "source": [
    "movie_data_list = []\n",
    "\n",
    "for index in range(len(movies)):\n",
    "\ttitle_string = movies[index].select('h3')[0].text.split(\". \")\n",
    "\tplace = title_string[0]\n",
    "\tmovie_title = title_string[1]\n",
    "\trating = movies[index].select('span.ipc-rating-star--rating')[0].text\n",
    "\tyear = movies[index].select('span.cli-title-metadata-item')[0].text\n",
    "\ttitle_id_href = movies[index].select('a.ipc-lockup-overlay')[0].get('href')\n",
    "\ttitle_id = title_id_href.split(\"/\")[2]\n",
    "\tstats_url = 'https://caching.graphql.imdb.com/?operationName=Title_Summary_Prompt_From_Base&variables={\"id\":\"' + title_id + '\",\"locale\":\"zh-CN\",\"location\":{\"latLong\":{\"lat\":\"22.3\",\"long\":\"114.2\"}},\"promotedProvider\":null,\"providerId\":null}&extensions={\"persistedQuery\":{\"sha256Hash\":\"28fdb27482f0852bc70811f36a5fab72e9afd1589b37c5e1aaecf438d418f6c7\",\"version\":1}}'\n",
    "\tstats_response = requests.get(stats_url, headers=headers)\n",
    "\tstats_json_data = stats_response.json()\n",
    "\tstats = ', '.join([item['name']['nameText']['text'] for item in stats_json_data['data']['title']['principalCast'][0]['credits']])\n",
    "\n",
    "\tdata = {\"place\": place,\n",
    "\t\t\t\"movie_title\": movie_title,\n",
    "\t\t\t\"rating\": rating,\n",
    "\t\t\t\"year\": year,\n",
    "\t\t\t\"star_cast\": stats,\n",
    "\t\t\t}\n",
    "\tmovie_data_list.append(data)\n",
    "\tsleep(0.2)"
   ]
  },
  {
   "cell_type": "code",
   "execution_count": null,
   "metadata": {},
   "outputs": [],
   "source": [
    "df = pd.DataFrame(movie_data_list)\n",
    "df.to_csv('data/imdb_top_250_movies.csv',index=False)"
   ]
  },
  {
   "cell_type": "code",
   "execution_count": null,
   "metadata": {},
   "outputs": [],
   "source": [
    "df"
   ]
  },
  {
   "cell_type": "markdown",
   "metadata": {},
   "source": [
    "# 3.scrape data from hitps:/movie.douban.com/top250 and make visualizations.Use hitps:/blog,csdn.net/9g 5174909/article/detais/143106786 as an example"
   ]
  },
  {
   "cell_type": "code",
   "execution_count": null,
   "metadata": {},
   "outputs": [],
   "source": [
    "douban_url = \"https://movie.douban.com/top250\"\n",
    " \n",
    "douban_headers = {\n",
    "    'User-Agent': 'Mozilla/5.0 (X11; Linux x86_64; rv:109.0) Gecko/20100101 Firefox/116.0',\n",
    "}\n",
    "\n",
    "# 发送 GET 请求\n",
    "douban_response = requests.get(douban_url, headers=douban_headers)\n",
    "douban_response.encoding = 'utf-8'  # 设置编码方式\n",
    "douban_soup = BeautifulSoup(douban_response.text, 'html.parser')"
   ]
  },
  {
   "cell_type": "code",
   "execution_count": null,
   "metadata": {},
   "outputs": [],
   "source": [
    "douban_movies = []\n",
    "for item in douban_soup.find_all('div', class_='item'):\n",
    "    title = item.find('span', class_='title').get_text()  # 电影名称\n",
    "    description = item.find('span', class_='inq')  # 电影描述\n",
    "    rating = item.find('span', class_='rating_num').get_text()  # 评分\n",
    "    votes = item.find('div', class_='star').find_all('span')[3].get_text()  # 评价人数\n",
    "    \n",
    "    # 如果没有描述，将其置为空字符串\n",
    "    if description:\n",
    "        description = description.get_text()\n",
    "    else:\n",
    "        description = ''\n",
    "    \n",
    "    movie = {\n",
    "        \"title\": title,\n",
    "        \"description\": description,\n",
    "        \"rating\": rating,\n",
    "        \"votes\": votes.replace('人评价', '').strip()\n",
    "    }\n",
    "    douban_movies.append(movie)"
   ]
  },
  {
   "cell_type": "code",
   "execution_count": null,
   "metadata": {},
   "outputs": [],
   "source": [
    "douban_df = pd.DataFrame(douban_movies)\n",
    "douban_df.to_csv('data/douban_top250.csv',index=False)"
   ]
  },
  {
   "cell_type": "code",
   "execution_count": null,
   "metadata": {},
   "outputs": [],
   "source": [
    "douban_df"
   ]
  },
  {
   "cell_type": "code",
   "execution_count": null,
   "metadata": {},
   "outputs": [],
   "source": []
  }
 ],
 "metadata": {
  "kernelspec": {
   "display_name": "Python 3",
   "language": "python",
   "name": "python3"
  },
  "language_info": {
   "codemirror_mode": {
    "name": "ipython",
    "version": 3
   },
   "file_extension": ".py",
   "mimetype": "text/x-python",
   "name": "python",
   "nbconvert_exporter": "python",
   "pygments_lexer": "ipython3",
   "version": "3.13.0"
  }
 },
 "nbformat": 4,
 "nbformat_minor": 2
}
