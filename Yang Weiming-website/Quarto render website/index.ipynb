{
  "cells": [
    {
      "cell_type": "markdown",
      "metadata": {},
      "source": [
        "# Yang-Weiming\n",
        "\n",
        "# Welcome to my website!\n",
        "\n",
        "### Belarusian State University, EM24-A, 030, Yang-Weiming\n",
        "\n",
        "#### I graduated from Guangdong University of Finance and Economics and live in Foshan, Guangdong. My hobbies are playing basketball, running and swimming."
      ],
      "id": "cf3ef136-51a8-49b1-befe-80eb95f79665"
    }
  ],
  "nbformat": 4,
  "nbformat_minor": 5,
  "metadata": {
    "kernelspec": {
      "display_name": "Python 3",
      "language": "python",
      "name": "python3"
    }
  }
}