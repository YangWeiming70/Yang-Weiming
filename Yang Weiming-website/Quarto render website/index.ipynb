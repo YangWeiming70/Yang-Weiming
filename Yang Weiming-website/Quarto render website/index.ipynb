{
  "cells": [
    {
      "cell_type": "markdown",
      "metadata": {},
      "source": [
        "# Yang-Weiming\n",
        "\n",
        "# Welcome to my website!\n",
        "\n",
        "### Belarusian State University，EM24-A，030，Yang-Weiming\n",
        "\n",
        "#### I graduated from Guangdong University of Finance and Economics, live in Foshan, and my hobbies are playing basketball, running and swimming."
      ],
      "id": "5bd6acfc-0a9b-4c31-bc9e-ad2b7e15a618"
    }
  ],
  "nbformat": 4,
  "nbformat_minor": 5,
  "metadata": {
    "kernelspec": {
      "display_name": "Python 3",
      "language": "python",
      "name": "python3"
    }
  }
}