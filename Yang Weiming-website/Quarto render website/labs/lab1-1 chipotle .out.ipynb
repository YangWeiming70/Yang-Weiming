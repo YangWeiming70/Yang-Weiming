{
  "cells": [
    {
      "cell_type": "markdown",
      "metadata": {},
      "source": [
        "# Ex2 - Getting and Knowing your Data\n",
        "\n",
        "This time we are going to pull data directly from the internet. Special\n",
        "thanks to: https://github.com/justmarkham for sharing the dataset and\n",
        "materials.\n",
        "\n",
        "### Step 1. Import the necessary libraries"
      ],
      "id": "c1466072-7054-4c24-bb20-8bab009c7f11"
    },
    {
      "cell_type": "code",
      "execution_count": 1,
      "metadata": {},
      "outputs": [],
      "source": [
        "import pandas as pd\n",
        "import requests\n",
        " "
      ],
      "id": "cell-3"
    },
    {
      "cell_type": "markdown",
      "metadata": {},
      "source": [
        "### Step 2. Import the dataset from this [address](https://raw.githubusercontent.com/justmarkham/DAT8/master/data/chipotle.tsv).\n",
        "\n",
        "### Step 3. Assign it to a variable called chipo."
      ],
      "id": "618d5f92-7b94-40a2-ad6b-7eef2920e025"
    },
    {
      "cell_type": "code",
      "execution_count": 3,
      "metadata": {},
      "outputs": [],
      "source": [
        "url = 'https://raw.githubusercontent.com/justmarkham/DAT8/master/data/chipotle.tsv'\n",
        "df = pd.read_csv(url,sep='\\t')\n",
        "chipo = df"
      ],
      "id": "cell-6"
    },
    {
      "cell_type": "markdown",
      "metadata": {},
      "source": [
        "### Step 4. See the first 10 entries"
      ],
      "id": "9f7f9d4e-b903-48ce-a34f-26293b58e2fc"
    },
    {
      "cell_type": "code",
      "execution_count": 4,
      "metadata": {},
      "outputs": [
        {
          "output_type": "display_data",
          "metadata": {},
          "data": {
            "text/html": [
              "\n",
              "</div>"
            ]
          }
        }
      ],
      "source": [
        "chipo.head(10)"
      ],
      "id": "cell-8"
    },
    {
      "cell_type": "markdown",
      "metadata": {},
      "source": [
        "### Step 5. What is the number of observations in the dataset?"
      ],
      "id": "1ab4874b-bbb3-4cdf-9eb1-ab7226974e51"
    },
    {
      "cell_type": "code",
      "execution_count": 7,
      "metadata": {},
      "outputs": [
        {
          "output_type": "stream",
          "name": "stdout",
          "text": [
            "4622"
          ]
        }
      ],
      "source": [
        "# Solution 1\n",
        "num_rows, num_columns = df.shape\n",
        " \n",
        "print(f\"{num_rows}\")"
      ],
      "id": "cell-10"
    },
    {
      "cell_type": "code",
      "execution_count": 8,
      "metadata": {},
      "outputs": [
        {
          "output_type": "stream",
          "name": "stdout",
          "text": [
            "<class 'pandas.core.frame.DataFrame'>\n",
            "RangeIndex: 4622 entries, 0 to 4621\n",
            "Data columns (total 5 columns):\n",
            " #   Column              Non-Null Count  Dtype \n",
            "---  ------              --------------  ----- \n",
            " 0   order_id            4622 non-null   int64 \n",
            " 1   quantity            4622 non-null   int64 \n",
            " 2   item_name           4622 non-null   object\n",
            " 3   choice_description  3376 non-null   object\n",
            " 4   item_price          4622 non-null   object\n",
            "dtypes: int64(2), object(3)\n",
            "memory usage: 180.7+ KB"
          ]
        }
      ],
      "source": [
        "# Solution 2\n",
        "df.info()\n",
        "\n"
      ],
      "id": "cell-11"
    },
    {
      "cell_type": "markdown",
      "metadata": {},
      "source": [
        "### Step 6. What is the number of columns in the dataset?"
      ],
      "id": "ae8fc073-4606-4a23-834b-9564c8758c85"
    },
    {
      "cell_type": "code",
      "execution_count": 9,
      "metadata": {},
      "outputs": [
        {
          "output_type": "stream",
          "name": "stdout",
          "text": [
            "5"
          ]
        }
      ],
      "source": [
        "num_columns = df.shape[1]\n",
        "    \n",
        "    # 打印列数\n",
        "print(f\"{num_columns}\")"
      ],
      "id": "cell-13"
    },
    {
      "cell_type": "markdown",
      "metadata": {},
      "source": [
        "### Step 7. Print the name of all the columns."
      ],
      "id": "77755c70-ed64-4809-8396-87552f205447"
    },
    {
      "cell_type": "code",
      "execution_count": 10,
      "metadata": {},
      "outputs": [
        {
          "output_type": "stream",
          "name": "stdout",
          "text": [
            "Index([u'order_id', u'quantity', u'item_name', u'choice_description', u'item_price'],\n",
            "       dtype='object')"
          ]
        }
      ],
      "source": [
        "column_names = df.columns.tolist()\n",
        "column_names_str = \", \".join(column_names)\n",
        " \n",
        "index_str = f\"Index([{', '.join([f'u\\'{col}\\'' for col in column_names])}],\\n       dtype='object')\"\n",
        "print(index_str)\n"
      ],
      "id": "cell-15"
    },
    {
      "cell_type": "markdown",
      "metadata": {},
      "source": [
        "### Step 8. How is the dataset indexed?"
      ],
      "id": "da83aa63-e3cd-4e8c-b0cf-218f80140d45"
    },
    {
      "cell_type": "code",
      "execution_count": 11,
      "metadata": {},
      "outputs": [
        {
          "output_type": "stream",
          "name": "stdout",
          "text": [
            "RangeIndex(start=0, stop=4622, step=1)"
          ]
        }
      ],
      "source": [
        "index = df.index\n",
        "if isinstance(index, pd.RangeIndex):\n",
        "    print(f\"RangeIndex(start={index.start}, stop={index.stop}, step={index.step})\")"
      ],
      "id": "cell-17"
    },
    {
      "cell_type": "markdown",
      "metadata": {},
      "source": [
        "### Step 9. Which was the most-ordered item?"
      ],
      "id": "034b6435-5e48-4861-8103-68344b1af686"
    },
    {
      "cell_type": "code",
      "execution_count": 53,
      "metadata": {},
      "outputs": [
        {
          "output_type": "display_data",
          "metadata": {},
          "data": {
            "text/html": [
              "\n",
              "</div>"
            ]
          }
        }
      ],
      "source": [
        "item_quants = chipo.groupby(['item_name']).agg({'quantity':'sum'})\n",
        "item_quants.sort_values('quantity', ascending=False)\n"
      ],
      "id": "cell-19"
    },
    {
      "cell_type": "markdown",
      "metadata": {},
      "source": [
        "### Step 10. For the most-ordered item, how many items were ordered?"
      ],
      "id": "ef15f8f2-65b2-45b5-85b9-25b6f263100d"
    },
    {
      "cell_type": "code",
      "execution_count": 55,
      "metadata": {},
      "outputs": [
        {
          "output_type": "display_data",
          "metadata": {},
          "data": {
            "text/plain": [
              "quantity    761\n",
              "Name: Chicken Bowl, dtype: int64"
            ]
          }
        }
      ],
      "source": [
        "item_quants.sort_values('quantity', ascending=False).iloc[0]"
      ],
      "id": "cell-21"
    },
    {
      "cell_type": "markdown",
      "metadata": {},
      "source": [
        "### Step 11. What was the most ordered item in the choice_description column?"
      ],
      "id": "7356b101-6138-4b19-9c31-ae09dd1635ec"
    },
    {
      "cell_type": "code",
      "execution_count": 56,
      "metadata": {},
      "outputs": [
        {
          "output_type": "display_data",
          "metadata": {},
          "data": {
            "text/html": [
              "\n",
              "</div>"
            ]
          }
        }
      ],
      "source": [
        "item_quants = chipo.groupby(['choice_description']).agg({'quantity':'sum'})\n",
        "item_quants.sort_values('quantity',ascending=False)[:5]"
      ],
      "id": "cell-23"
    },
    {
      "cell_type": "markdown",
      "metadata": {},
      "source": [
        "### Step 12. How many items were orderd in total?"
      ],
      "id": "3d5e3953-a5ad-4256-8d57-2ae2e5a72b7e"
    },
    {
      "cell_type": "code",
      "execution_count": 70,
      "metadata": {},
      "outputs": [
        {
          "output_type": "stream",
          "name": "stdout",
          "text": [
            "4972 "
          ]
        }
      ],
      "source": [
        "total_quantity = df['quantity'].sum()\n",
        "print(f\"{total_quantity} \")"
      ],
      "id": "cell-25"
    },
    {
      "cell_type": "markdown",
      "metadata": {},
      "source": [
        "### Step 13. Turn the item price into a float\n",
        "\n",
        "#### Step 13.a. Check the item price type"
      ],
      "id": "71a5ecfa-7a55-48ed-a409-3406b493e15a"
    },
    {
      "cell_type": "code",
      "execution_count": 100,
      "metadata": {},
      "outputs": [
        {
          "output_type": "stream",
          "name": "stdout",
          "text": [
            "float64"
          ]
        }
      ],
      "source": [
        "\n",
        "chipo['item_price'] = chipo['item_price']\n",
        "print(chipo['item_price'].dtype)\n"
      ],
      "id": "cell-28"
    },
    {
      "cell_type": "markdown",
      "metadata": {},
      "source": [
        "#### Step 13.b. Create a lambda function and change the type of item price"
      ],
      "id": "ed14cea9-fcce-4721-b744-9c27dd8125ba"
    },
    {
      "cell_type": "code",
      "execution_count": 92,
      "metadata": {},
      "outputs": [],
      "source": [
        "df['item_price'] = df['item_price'].apply(lambda x: pd.to_numeric(x, errors='coerce')).astype('float64')\n",
        "    \n",
        "selected_columns = df[['order_id', 'quantity', 'item_name', 'choice_description', 'item_price']].head(10)\n",
        "price_dtype = selected_columns['item_price'].dtype\n",
        "\n"
      ],
      "id": "cell-30"
    },
    {
      "cell_type": "markdown",
      "metadata": {},
      "source": [
        "#### Step 13.c. Check the item price type"
      ],
      "id": "844bd1c0-8a75-4979-b32d-9562d98eb188"
    },
    {
      "cell_type": "code",
      "execution_count": 101,
      "metadata": {},
      "outputs": [
        {
          "output_type": "stream",
          "name": "stdout",
          "text": [
            "dtype('float64')"
          ]
        }
      ],
      "source": [
        "\n",
        "print(f\"dtype('{price_dtype}')\")"
      ],
      "id": "cell-32"
    },
    {
      "cell_type": "markdown",
      "metadata": {},
      "source": [
        "### Step 14. How much was the revenue for the period in the dataset?"
      ],
      "id": "4e38a593-683b-48f5-80d8-328e7a2e7582"
    },
    {
      "cell_type": "code",
      "execution_count": 105,
      "metadata": {},
      "outputs": [
        {
          "output_type": "stream",
          "name": "stdout",
          "text": [
            "Revenue was: $34,500.16"
          ]
        }
      ],
      "source": [
        "chipo = pd.read_csv(url, sep='\\t')\n",
        "chipo['item_price'] = chipo['item_price'].apply(lambda x: float(x.replace('$', '')))\n",
        "total_revenue = chipo['item_price'].sum()\n",
        "formatted_revenue = \"${:,.2f}\".format(total_revenue)\n",
        "print(f\"Revenue was: {formatted_revenue}\")"
      ],
      "id": "cell-34"
    },
    {
      "cell_type": "markdown",
      "metadata": {},
      "source": [
        "### Step 15. How many orders were made in the period?"
      ],
      "id": "76b5d480-ca79-48c5-aae6-69b68be53a31"
    },
    {
      "cell_type": "code",
      "execution_count": 106,
      "metadata": {},
      "outputs": [
        {
          "output_type": "stream",
          "name": "stdout",
          "text": [
            "1834 "
          ]
        }
      ],
      "source": [
        "unique_order_count = df['order_id'].nunique()\n",
        "\n",
        "print(f'{unique_order_count} ')"
      ],
      "id": "cell-36"
    },
    {
      "cell_type": "markdown",
      "metadata": {},
      "source": [
        "### Step 16. What is the average revenue amount per order?"
      ],
      "id": "8fb8a396-644c-4cf6-8e03-0df1b28606cc"
    },
    {
      "cell_type": "code",
      "execution_count": 110,
      "metadata": {},
      "outputs": [],
      "source": [
        "# Solution 1\n",
        "average_price = chipo['item_price'].mean()\n",
        "formatted_average_price = \"${:,.2f}\".format(average_price)"
      ],
      "id": "cell-38"
    },
    {
      "cell_type": "code",
      "execution_count": 111,
      "metadata": {},
      "outputs": [
        {
          "output_type": "stream",
          "name": "stdout",
          "text": [
            "Average Item Price was: $7.46"
          ]
        }
      ],
      "source": [
        "# Solution 2\n",
        "print(f\"Average Item Price was: {formatted_average_price}\")"
      ],
      "id": "cell-39"
    },
    {
      "cell_type": "markdown",
      "metadata": {},
      "source": [
        "### Step 17. How many different items are sold?"
      ],
      "id": "70d4236a-5d1b-4f43-a681-02c5a0f16bb4"
    },
    {
      "cell_type": "code",
      "execution_count": 112,
      "metadata": {},
      "outputs": [
        {
          "output_type": "display_data",
          "metadata": {},
          "data": {
            "text/plain": [
              "50"
            ]
          }
        }
      ],
      "source": [
        "chipo.item_name.nunique()"
      ],
      "id": "cell-41"
    }
  ],
  "nbformat": 4,
  "nbformat_minor": 5,
  "metadata": {
    "anaconda-cloud": {},
    "kernelspec": {
      "name": "python3",
      "display_name": "Python 3",
      "language": "python"
    },
    "language_info": {
      "name": "python",
      "codemirror_mode": {
        "name": "ipython",
        "version": "3"
      },
      "file_extension": ".py",
      "mimetype": "text/x-python",
      "nbconvert_exporter": "python",
      "pygments_lexer": "ipython3",
      "version": "3.13.0"
    }
  }
}