{
  "cells": [
    {
      "cell_type": "markdown",
      "metadata": {},
      "source": [
        "# Yang-Weiming\n",
        "\n",
        "# Welcome to my website!\n",
        "\n",
        "#### ~Belarusian State University，EM24-A，Yang-Weiming\n",
        "\n",
        "#### ~like basketball,comic HUNTER×HUNTER and Queen"
      ],
      "id": "15a2d48f-09cb-4f47-a5f1-4b9dc409b1e9"
    }
  ],
  "nbformat": 4,
  "nbformat_minor": 5,
  "metadata": {
    "kernelspec": {
      "display_name": "Python 3",
      "language": "python",
      "name": "python3"
    }
  }
}